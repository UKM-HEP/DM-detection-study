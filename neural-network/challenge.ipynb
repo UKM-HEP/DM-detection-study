{
 "cells": [
  {
   "cell_type": "code",
   "execution_count": null,
   "metadata": {
    "id": "nOzq9yJ72fHf"
   },
   "outputs": [],
   "source": [
    "# School challenge!! Try to optimize performance of classifier of CRESST data"
   ]
  },
  {
   "cell_type": "code",
   "execution_count": null,
   "metadata": {
    "id": "EtyBXWmS2fHg"
   },
   "outputs": [],
   "source": [
    "import numpy as np\n",
    "import torch\n",
    "import torch.nn.functional as F"
   ]
  },
  {
   "cell_type": "code",
   "execution_count": null,
   "metadata": {
    "id": "htO5HTe_2fHh"
   },
   "outputs": [],
   "source": [
    "# fetch the data from github (might not be needed)\n",
    "!test -e training.p || wget https://github.com/WolfgangWaltenberger/vietnam2022/raw/main/training.p"
   ]
  },
  {
   "cell_type": "code",
   "execution_count": null,
   "metadata": {
    "id": "Tr6a717g2fHh"
   },
   "outputs": [],
   "source": [
    "# fetch the data from github (might not be needed)\n",
    "!test -e validation.p || wget https://github.com/WolfgangWaltenberger/vietnam2022/raw/main/validation.p"
   ]
  },
  {
   "cell_type": "code",
   "execution_count": null,
   "metadata": {
    "id": "q5G8bAWF2fHi"
   },
   "outputs": [],
   "source": [
    "## load the 2d data (x_data), with the labels (y_data).\n",
    "## the labels are {0,1}.\n",
    "x_data, y_data = torch.load ( \"training.p\" )\n",
    "x_test, y_test = torch.load ( \"validation.p\" )\n",
    "\n",
    "recordLength = 16384"
   ]
  },
  {
   "cell_type": "markdown",
   "metadata": {
    "id": "J6x0psJa2fHi"
   },
   "source": [
    "# Plot point number 5"
   ]
  },
  {
   "cell_type": "code",
   "execution_count": null,
   "metadata": {
    "id": "rZRY9qVy2fHj",
    "outputId": "d3556961-5f3b-4573-f5ec-2c1275074f12"
   },
   "outputs": [
    {
     "data": {
      "image/png": "[encoded data removed]",
      "text/plain": [
       "<Figure size 432x288 with 1 Axes>"
      ]
     },
     "metadata": {
      "needs_background": "light"
     },
     "output_type": "display_data"
    }
   ],
   "source": [
    "import matplotlib.pyplot as plt\n",
    "nr = 5\n",
    "plt.plot ( x_data[nr]) \n",
    "plt.title ( f\"event #{nr} class: {int(y_data[nr].item())}\" );"
   ]
  },
  {
   "cell_type": "code",
   "execution_count": null,
   "metadata": {
    "id": "wFK-x9QP2fHk"
   },
   "outputs": [],
   "source": [
    "## now define your neural network. here is a simple one to start with!\n",
    "class Model(torch.nn.Module):\n",
    "    def __init__(self):\n",
    "        super(Model, self).__init__()\n",
    "        self.linear1 = torch.nn.Linear(recordLength, 100) # 2 in and 1 out\n",
    "        self.relu = torch.nn.ReLU()\n",
    "        self.linear2 = torch.nn.Linear(100, 1)\n",
    "        \n",
    "    def forward(self, x):\n",
    "        out1 = self.linear1(x)\n",
    "        act1 = self.relu ( out1 )\n",
    "        out2 = self.linear2 ( act1 )\n",
    "        y_pred = torch.sigmoid( out2 )\n",
    "        return y_pred"
   ]
  },
  {
   "cell_type": "code",
   "execution_count": null,
   "metadata": {
    "id": "4wYTRP0d2fHl"
   },
   "outputs": [],
   "source": [
    "# Instantiate the model\n",
    "model = Model()"
   ]
  },
  {
   "cell_type": "code",
   "execution_count": null,
   "metadata": {
    "id": "duNChuvb2fHn"
   },
   "outputs": [],
   "source": [
    "## define your loss function \n",
    "criterion = torch.nn.BCELoss(reduction='mean')"
   ]
  },
  {
   "cell_type": "code",
   "execution_count": null,
   "metadata": {
    "id": "wopSc9PB2fHn"
   },
   "outputs": [],
   "source": [
    "## choose an optimizer (torch.optim.Adam, torch.optim.SGD, ... )\n",
    "## it takes model.parameters() as input. Choose a learning rate.\n",
    "optimizer = torch.optim.Adam(model.parameters(), lr=0.001)"
   ]
  },
  {
   "cell_type": "code",
   "execution_count": null,
   "metadata": {
    "id": "zaWWbaO92fHo",
    "outputId": "ca62bfc8-e08a-408c-f0b6-9e8a6e85e98a"
   },
   "outputs": [
    {
     "name": "stdout",
     "output_type": "stream",
     "text": [
      "training: epoch 0 loss=0.688\n",
      "training: epoch 10 loss=0.613\n",
      "training: epoch 20 loss=0.321\n",
      "training: epoch 30 loss=0.292\n",
      "training: epoch 40 loss=0.272\n",
      "training: epoch 50 loss=0.252\n",
      "training: epoch 60 loss=0.233\n",
      "training: epoch 70 loss=0.216\n",
      "training: epoch 80 loss=0.200\n",
      "training: epoch 90 loss=0.183\n"
     ]
    }
   ],
   "source": [
    "# Training loop\n",
    "for epoch in range(100):\n",
    "    # Forward pass: Compute predicted y by passing x_data to the model\n",
    "    y_pred = model(x_data)\n",
    "    # y_data = y_data.reshape(10000,1)\n",
    "    # Compute and print loss\n",
    "    loss = criterion(y_pred, y_data)\n",
    "    if epoch % 10 == 0:\n",
    "        print ( f\"training: epoch {epoch} loss={loss.data.item():.3f}\" )\n",
    "    \n",
    "    # Reset gradient, perform a backward pass, and update the weights.\n",
    "    optimizer.zero_grad()\n",
    "    loss.backward()\n",
    "    optimizer.step()"
   ]
  },
  {
   "cell_type": "code",
   "execution_count": null,
   "metadata": {
    "id": "U6TwtsE92fHp",
    "outputId": "06f396d9-1208-4f1b-905f-aab4e79e3810"
   },
   "outputs": [
    {
     "name": "stdout",
     "output_type": "stream",
     "text": [
      "245/500 of the data were carriers.\n",
      "Accuracy of the model on the 500 test images: 94.20 %\n"
     ]
    }
   ],
   "source": [
    "# Check the performance of the model with the test data set\n",
    "correct, carrier, total = 0, 0, len(x_test)\n",
    "ctr = 0\n",
    "for pulse, label in zip ( x_test, y_test ):\n",
    "    ctr += 1\n",
    "    output = model(pulse)\n",
    "    predicted = int(output.data[0] > .5)\n",
    "    label = int ( label )\n",
    "    correct += (predicted == label)\n",
    "    carrier += label\n",
    "\n",
    "print ( '%d/%d of the data were carriers.' % ( carrier, total ) )\n",
    "    \n",
    "print('Accuracy of the model on the %d test images: %.2f %%' % ( total, 100. * correct / total))"
   ]
  },
  {
   "cell_type": "code",
   "execution_count": null,
   "metadata": {
    "id": "l2L5GCtX2fHq"
   },
   "outputs": [],
   "source": [
    "# torch.save(model.state_dict(), 'my_model.ckpt' )"
   ]
  }
 ],
 "metadata": {
  "colab": {
   "provenance": []
  },
  "kernelspec": {
   "display_name": "Python 3 (ipykernel)",
   "language": "python",
   "name": "python3"
  },
  "language_info": {
   "codemirror_mode": {
    "name": "ipython",
    "version": 3
   },
   "file_extension": ".py",
   "mimetype": "text/x-python",
   "name": "python",
   "nbconvert_exporter": "python",
   "pygments_lexer": "ipython3",
   "version": "3.10.10"
  }
 },
 "nbformat": 4,
 "nbformat_minor": 1
}
